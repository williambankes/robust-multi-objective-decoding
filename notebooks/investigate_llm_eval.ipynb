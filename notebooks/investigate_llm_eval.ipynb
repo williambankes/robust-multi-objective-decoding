{
 "cells": [
  {
   "cell_type": "code",
   "execution_count": 1,
   "metadata": {},
   "outputs": [],
   "source": [
    "import pandas as pd\n",
    "import numpy as np\n",
    "import os\n",
    "\n"
   ]
  },
  {
   "cell_type": "code",
   "execution_count": 23,
   "metadata": {},
   "outputs": [],
   "source": [
    "path1 = \"/home/hingdoong/0_codes/robust-multi-objective-decoding/results/gpt4_harmless_blockwise_K16B16_100prompts.csv\"\n",
    "path2 = \"/home/hingdoong/0_codes/robust-multi-objective-decoding/results/gpt4_helpful_blockwise_K16B16_100prompts.csv\"\n",
    "path3 = \"/home/hingdoong/0_codes/robust-multi-objective-decoding/results/RMOD_distill_K16B16_1024prompts.csv\"\n",
    "path_blockwise = \"/home/hingdoong/0_codes/robust-multi-objective-decoding/results/RMOD_blockwise_K16B16_1024prompts.csv\"\n",
    "path_uniform = \"/home/hingdoong/0_codes/robust-multi-objective-decoding/results/uniform_blockwise_K16B16_1024prompts.csv\"\n",
    "path_distill = \"/home/hingdoong/0_codes/robust-multi-objective-decoding/results/RMOD_distill_K16B16_1024prompts.csv\"\n",
    "df1 = pd.read_csv(path1)\n",
    "df2 = pd.read_csv(path2)\n",
    "df3 = pd.read_csv(path3)\n",
    "df4 = pd.read_csv(path4)\n",
    "\n",
    "df_blockwise = pd.read_csv(path_blockwise)\n",
    "df_uniform = pd.read_csv(path_uniform)\n",
    "df_distill = pd.read_csv(path_distill)\n",
    "\n"
   ]
  },
  {
   "cell_type": "code",
   "execution_count": 7,
   "metadata": {},
   "outputs": [
    {
     "data": {
      "text/plain": [
       "harmless_model1_score_mean    7.925\n",
       "harmless_model2_score_mean    7.935\n",
       "helpful_model1_score_mean     6.470\n",
       "helpful_model2_score_mean     6.815\n",
       "dtype: float64"
      ]
     },
     "execution_count": 7,
     "metadata": {},
     "output_type": "execute_result"
    }
   ],
   "source": [
    "cols = [\"harmless_model1_score_mean\", \"harmless_model2_score_mean\", \"helpful_model1_score_mean\", \"helpful_model2_score_mean\"]\n",
    "df1[cols].mean(axis=0)\n",
    "\n",
    "\n"
   ]
  },
  {
   "cell_type": "code",
   "execution_count": 8,
   "metadata": {},
   "outputs": [
    {
     "data": {
      "text/plain": [
       "harmless_model1_score_mean    8.025\n",
       "harmless_model2_score_mean    7.925\n",
       "helpful_model1_score_mean     6.110\n",
       "helpful_model2_score_mean     5.900\n",
       "dtype: float64"
      ]
     },
     "execution_count": 8,
     "metadata": {},
     "output_type": "execute_result"
    }
   ],
   "source": [
    "df2[cols].mean(axis=0)"
   ]
  },
  {
   "cell_type": "code",
   "execution_count": 12,
   "metadata": {},
   "outputs": [
    {
     "data": {
      "text/plain": [
       "harmless_model1_score_mean    8.756667\n",
       "harmless_model2_score_mean    8.481667\n",
       "helpful_model1_score_mean     7.508333\n",
       "helpful_model2_score_mean     7.275000\n",
       "dtype: float64"
      ]
     },
     "execution_count": 12,
     "metadata": {},
     "output_type": "execute_result"
    }
   ],
   "source": [
    "df3[cols].iloc[:300].mean(axis=0)"
   ]
  },
  {
   "cell_type": "code",
   "execution_count": 25,
   "metadata": {},
   "outputs": [
    {
     "data": {
      "text/plain": [
       "harmless_model1_score_mean    8.836667\n",
       "harmless_model2_score_mean    8.550000\n",
       "helpful_model1_score_mean     7.573333\n",
       "helpful_model2_score_mean     7.260000\n",
       "dtype: float64"
      ]
     },
     "execution_count": 25,
     "metadata": {},
     "output_type": "execute_result"
    }
   ],
   "source": [
    "df_blockwise[cols].iloc[:300].mean(axis=0)"
   ]
  },
  {
   "cell_type": "code",
   "execution_count": 17,
   "metadata": {},
   "outputs": [],
   "source": [
    "def norm_win_rate(df_target):\n",
    "    mean_scores_helpful = np.array(df_target[[\"helpful_model1_score_mean\", \"helpful_model2_score_mean\"]]).reshape(-1).mean(axis=0)\n",
    "    std_scores_helpful = np.array(df_target[[\"helpful_model1_score_mean\", \"helpful_model2_score_mean\"]]).reshape(-1).std(axis=0)\n",
    "    mean_scores_harmless = np.array(df_target[[\"harmless_model1_score_mean\", \"harmless_model2_score_mean\"]]).reshape(-1).mean(axis=0)\n",
    "    std_scores_harmless = np.array(df_target[[\"harmless_model1_score_mean\", \"harmless_model2_score_mean\"]]).reshape(-1).std(axis=0)\n",
    "\n",
    "    scores_norm = df_target[[\"harmless_model1_score_mean\", \"harmless_model2_score_mean\", \"helpful_model1_score_mean\", \"helpful_model2_score_mean\"]]\n",
    "    scores_norm[\"harmless_model1_score_mean\"] = (scores_norm[\"harmless_model1_score_mean\"] - mean_scores_harmless) / std_scores_harmless\n",
    "    scores_norm[\"harmless_model2_score_mean\"] = (scores_norm[\"harmless_model2_score_mean\"] - mean_scores_harmless) / std_scores_harmless\n",
    "    scores_norm[\"helpful_model1_score_mean\"] = (scores_norm[\"helpful_model1_score_mean\"] - mean_scores_helpful) / std_scores_helpful\n",
    "    scores_norm[\"helpful_model2_score_mean\"] = (scores_norm[\"helpful_model2_score_mean\"] - mean_scores_helpful) / std_scores_helpful\n",
    "\n",
    "    worst_case_score1 = scores_norm[[\"harmless_model1_score_mean\", \"helpful_model1_score_mean\"]].min(axis=1)\n",
    "    worst_case_score2 = scores_norm[[\"harmless_model2_score_mean\", \"helpful_model2_score_mean\"]].min(axis=1)\n",
    "    win_rate = ((worst_case_score1 > worst_case_score2) * 1 + (worst_case_score1 == worst_case_score2) * 0.5).mean()\n",
    "\n",
    "    return win_rate\n",
    "\n",
    "\n",
    "\n",
    "\n"
   ]
  },
  {
   "cell_type": "code",
   "execution_count": 18,
   "metadata": {},
   "outputs": [
    {
     "name": "stderr",
     "output_type": "stream",
     "text": [
      "/tmp/ipykernel_1723963/3541199501.py:8: SettingWithCopyWarning: \n",
      "A value is trying to be set on a copy of a slice from a DataFrame.\n",
      "Try using .loc[row_indexer,col_indexer] = value instead\n",
      "\n",
      "See the caveats in the documentation: https://pandas.pydata.org/pandas-docs/stable/user_guide/indexing.html#returning-a-view-versus-a-copy\n",
      "  scores_norm[\"harmless_model1_score_mean\"] = (scores_norm[\"harmless_model1_score_mean\"] - mean_scores_harmless) / std_scores_harmless\n",
      "/tmp/ipykernel_1723963/3541199501.py:9: SettingWithCopyWarning: \n",
      "A value is trying to be set on a copy of a slice from a DataFrame.\n",
      "Try using .loc[row_indexer,col_indexer] = value instead\n",
      "\n",
      "See the caveats in the documentation: https://pandas.pydata.org/pandas-docs/stable/user_guide/indexing.html#returning-a-view-versus-a-copy\n",
      "  scores_norm[\"harmless_model2_score_mean\"] = (scores_norm[\"harmless_model2_score_mean\"] - mean_scores_harmless) / std_scores_harmless\n",
      "/tmp/ipykernel_1723963/3541199501.py:10: SettingWithCopyWarning: \n",
      "A value is trying to be set on a copy of a slice from a DataFrame.\n",
      "Try using .loc[row_indexer,col_indexer] = value instead\n",
      "\n",
      "See the caveats in the documentation: https://pandas.pydata.org/pandas-docs/stable/user_guide/indexing.html#returning-a-view-versus-a-copy\n",
      "  scores_norm[\"helpful_model1_score_mean\"] = (scores_norm[\"helpful_model1_score_mean\"] - mean_scores_helpful) / std_scores_helpful\n",
      "/tmp/ipykernel_1723963/3541199501.py:11: SettingWithCopyWarning: \n",
      "A value is trying to be set on a copy of a slice from a DataFrame.\n",
      "Try using .loc[row_indexer,col_indexer] = value instead\n",
      "\n",
      "See the caveats in the documentation: https://pandas.pydata.org/pandas-docs/stable/user_guide/indexing.html#returning-a-view-versus-a-copy\n",
      "  scores_norm[\"helpful_model2_score_mean\"] = (scores_norm[\"helpful_model2_score_mean\"] - mean_scores_helpful) / std_scores_helpful\n"
     ]
    },
    {
     "data": {
      "text/plain": [
       "np.float64(0.42)"
      ]
     },
     "execution_count": 18,
     "metadata": {},
     "output_type": "execute_result"
    }
   ],
   "source": [
    "norm_win_rate(df1)"
   ]
  },
  {
   "cell_type": "code",
   "execution_count": 19,
   "metadata": {},
   "outputs": [
    {
     "name": "stderr",
     "output_type": "stream",
     "text": [
      "/tmp/ipykernel_1723963/3541199501.py:8: SettingWithCopyWarning: \n",
      "A value is trying to be set on a copy of a slice from a DataFrame.\n",
      "Try using .loc[row_indexer,col_indexer] = value instead\n",
      "\n",
      "See the caveats in the documentation: https://pandas.pydata.org/pandas-docs/stable/user_guide/indexing.html#returning-a-view-versus-a-copy\n",
      "  scores_norm[\"harmless_model1_score_mean\"] = (scores_norm[\"harmless_model1_score_mean\"] - mean_scores_harmless) / std_scores_harmless\n",
      "/tmp/ipykernel_1723963/3541199501.py:9: SettingWithCopyWarning: \n",
      "A value is trying to be set on a copy of a slice from a DataFrame.\n",
      "Try using .loc[row_indexer,col_indexer] = value instead\n",
      "\n",
      "See the caveats in the documentation: https://pandas.pydata.org/pandas-docs/stable/user_guide/indexing.html#returning-a-view-versus-a-copy\n",
      "  scores_norm[\"harmless_model2_score_mean\"] = (scores_norm[\"harmless_model2_score_mean\"] - mean_scores_harmless) / std_scores_harmless\n",
      "/tmp/ipykernel_1723963/3541199501.py:10: SettingWithCopyWarning: \n",
      "A value is trying to be set on a copy of a slice from a DataFrame.\n",
      "Try using .loc[row_indexer,col_indexer] = value instead\n",
      "\n",
      "See the caveats in the documentation: https://pandas.pydata.org/pandas-docs/stable/user_guide/indexing.html#returning-a-view-versus-a-copy\n",
      "  scores_norm[\"helpful_model1_score_mean\"] = (scores_norm[\"helpful_model1_score_mean\"] - mean_scores_helpful) / std_scores_helpful\n",
      "/tmp/ipykernel_1723963/3541199501.py:11: SettingWithCopyWarning: \n",
      "A value is trying to be set on a copy of a slice from a DataFrame.\n",
      "Try using .loc[row_indexer,col_indexer] = value instead\n",
      "\n",
      "See the caveats in the documentation: https://pandas.pydata.org/pandas-docs/stable/user_guide/indexing.html#returning-a-view-versus-a-copy\n",
      "  scores_norm[\"helpful_model2_score_mean\"] = (scores_norm[\"helpful_model2_score_mean\"] - mean_scores_helpful) / std_scores_helpful\n"
     ]
    },
    {
     "data": {
      "text/plain": [
       "np.float64(0.57)"
      ]
     },
     "execution_count": 19,
     "metadata": {},
     "output_type": "execute_result"
    }
   ],
   "source": [
    "norm_win_rate(df2)"
   ]
  },
  {
   "cell_type": "code",
   "execution_count": 20,
   "metadata": {},
   "outputs": [
    {
     "name": "stderr",
     "output_type": "stream",
     "text": [
      "/tmp/ipykernel_1723963/3541199501.py:8: SettingWithCopyWarning: \n",
      "A value is trying to be set on a copy of a slice from a DataFrame.\n",
      "Try using .loc[row_indexer,col_indexer] = value instead\n",
      "\n",
      "See the caveats in the documentation: https://pandas.pydata.org/pandas-docs/stable/user_guide/indexing.html#returning-a-view-versus-a-copy\n",
      "  scores_norm[\"harmless_model1_score_mean\"] = (scores_norm[\"harmless_model1_score_mean\"] - mean_scores_harmless) / std_scores_harmless\n",
      "/tmp/ipykernel_1723963/3541199501.py:9: SettingWithCopyWarning: \n",
      "A value is trying to be set on a copy of a slice from a DataFrame.\n",
      "Try using .loc[row_indexer,col_indexer] = value instead\n",
      "\n",
      "See the caveats in the documentation: https://pandas.pydata.org/pandas-docs/stable/user_guide/indexing.html#returning-a-view-versus-a-copy\n",
      "  scores_norm[\"harmless_model2_score_mean\"] = (scores_norm[\"harmless_model2_score_mean\"] - mean_scores_harmless) / std_scores_harmless\n",
      "/tmp/ipykernel_1723963/3541199501.py:10: SettingWithCopyWarning: \n",
      "A value is trying to be set on a copy of a slice from a DataFrame.\n",
      "Try using .loc[row_indexer,col_indexer] = value instead\n",
      "\n",
      "See the caveats in the documentation: https://pandas.pydata.org/pandas-docs/stable/user_guide/indexing.html#returning-a-view-versus-a-copy\n",
      "  scores_norm[\"helpful_model1_score_mean\"] = (scores_norm[\"helpful_model1_score_mean\"] - mean_scores_helpful) / std_scores_helpful\n",
      "/tmp/ipykernel_1723963/3541199501.py:11: SettingWithCopyWarning: \n",
      "A value is trying to be set on a copy of a slice from a DataFrame.\n",
      "Try using .loc[row_indexer,col_indexer] = value instead\n",
      "\n",
      "See the caveats in the documentation: https://pandas.pydata.org/pandas-docs/stable/user_guide/indexing.html#returning-a-view-versus-a-copy\n",
      "  scores_norm[\"helpful_model2_score_mean\"] = (scores_norm[\"helpful_model2_score_mean\"] - mean_scores_helpful) / std_scores_helpful\n"
     ]
    },
    {
     "data": {
      "text/plain": [
       "np.float64(0.59912109375)"
      ]
     },
     "execution_count": 20,
     "metadata": {},
     "output_type": "execute_result"
    }
   ],
   "source": [
    "norm_win_rate(df3)"
   ]
  },
  {
   "cell_type": "code",
   "execution_count": 22,
   "metadata": {},
   "outputs": [
    {
     "name": "stderr",
     "output_type": "stream",
     "text": [
      "/tmp/ipykernel_1723963/3541199501.py:8: SettingWithCopyWarning: \n",
      "A value is trying to be set on a copy of a slice from a DataFrame.\n",
      "Try using .loc[row_indexer,col_indexer] = value instead\n",
      "\n",
      "See the caveats in the documentation: https://pandas.pydata.org/pandas-docs/stable/user_guide/indexing.html#returning-a-view-versus-a-copy\n",
      "  scores_norm[\"harmless_model1_score_mean\"] = (scores_norm[\"harmless_model1_score_mean\"] - mean_scores_harmless) / std_scores_harmless\n",
      "/tmp/ipykernel_1723963/3541199501.py:9: SettingWithCopyWarning: \n",
      "A value is trying to be set on a copy of a slice from a DataFrame.\n",
      "Try using .loc[row_indexer,col_indexer] = value instead\n",
      "\n",
      "See the caveats in the documentation: https://pandas.pydata.org/pandas-docs/stable/user_guide/indexing.html#returning-a-view-versus-a-copy\n",
      "  scores_norm[\"harmless_model2_score_mean\"] = (scores_norm[\"harmless_model2_score_mean\"] - mean_scores_harmless) / std_scores_harmless\n",
      "/tmp/ipykernel_1723963/3541199501.py:10: SettingWithCopyWarning: \n",
      "A value is trying to be set on a copy of a slice from a DataFrame.\n",
      "Try using .loc[row_indexer,col_indexer] = value instead\n",
      "\n",
      "See the caveats in the documentation: https://pandas.pydata.org/pandas-docs/stable/user_guide/indexing.html#returning-a-view-versus-a-copy\n",
      "  scores_norm[\"helpful_model1_score_mean\"] = (scores_norm[\"helpful_model1_score_mean\"] - mean_scores_helpful) / std_scores_helpful\n",
      "/tmp/ipykernel_1723963/3541199501.py:11: SettingWithCopyWarning: \n",
      "A value is trying to be set on a copy of a slice from a DataFrame.\n",
      "Try using .loc[row_indexer,col_indexer] = value instead\n",
      "\n",
      "See the caveats in the documentation: https://pandas.pydata.org/pandas-docs/stable/user_guide/indexing.html#returning-a-view-versus-a-copy\n",
      "  scores_norm[\"helpful_model2_score_mean\"] = (scores_norm[\"helpful_model2_score_mean\"] - mean_scores_helpful) / std_scores_helpful\n"
     ]
    },
    {
     "data": {
      "text/plain": [
       "np.float64(0.535)"
      ]
     },
     "execution_count": 22,
     "metadata": {},
     "output_type": "execute_result"
    }
   ],
   "source": [
    "norm_win_rate(df4)"
   ]
  },
  {
   "cell_type": "code",
   "execution_count": 24,
   "metadata": {},
   "outputs": [
    {
     "name": "stdout",
     "output_type": "stream",
     "text": [
      "0.61279296875\n",
      "0.61669921875\n",
      "0.59912109375\n"
     ]
    },
    {
     "name": "stderr",
     "output_type": "stream",
     "text": [
      "/tmp/ipykernel_1723963/3541199501.py:8: SettingWithCopyWarning: \n",
      "A value is trying to be set on a copy of a slice from a DataFrame.\n",
      "Try using .loc[row_indexer,col_indexer] = value instead\n",
      "\n",
      "See the caveats in the documentation: https://pandas.pydata.org/pandas-docs/stable/user_guide/indexing.html#returning-a-view-versus-a-copy\n",
      "  scores_norm[\"harmless_model1_score_mean\"] = (scores_norm[\"harmless_model1_score_mean\"] - mean_scores_harmless) / std_scores_harmless\n",
      "/tmp/ipykernel_1723963/3541199501.py:9: SettingWithCopyWarning: \n",
      "A value is trying to be set on a copy of a slice from a DataFrame.\n",
      "Try using .loc[row_indexer,col_indexer] = value instead\n",
      "\n",
      "See the caveats in the documentation: https://pandas.pydata.org/pandas-docs/stable/user_guide/indexing.html#returning-a-view-versus-a-copy\n",
      "  scores_norm[\"harmless_model2_score_mean\"] = (scores_norm[\"harmless_model2_score_mean\"] - mean_scores_harmless) / std_scores_harmless\n",
      "/tmp/ipykernel_1723963/3541199501.py:10: SettingWithCopyWarning: \n",
      "A value is trying to be set on a copy of a slice from a DataFrame.\n",
      "Try using .loc[row_indexer,col_indexer] = value instead\n",
      "\n",
      "See the caveats in the documentation: https://pandas.pydata.org/pandas-docs/stable/user_guide/indexing.html#returning-a-view-versus-a-copy\n",
      "  scores_norm[\"helpful_model1_score_mean\"] = (scores_norm[\"helpful_model1_score_mean\"] - mean_scores_helpful) / std_scores_helpful\n",
      "/tmp/ipykernel_1723963/3541199501.py:11: SettingWithCopyWarning: \n",
      "A value is trying to be set on a copy of a slice from a DataFrame.\n",
      "Try using .loc[row_indexer,col_indexer] = value instead\n",
      "\n",
      "See the caveats in the documentation: https://pandas.pydata.org/pandas-docs/stable/user_guide/indexing.html#returning-a-view-versus-a-copy\n",
      "  scores_norm[\"helpful_model2_score_mean\"] = (scores_norm[\"helpful_model2_score_mean\"] - mean_scores_helpful) / std_scores_helpful\n",
      "/tmp/ipykernel_1723963/3541199501.py:8: SettingWithCopyWarning: \n",
      "A value is trying to be set on a copy of a slice from a DataFrame.\n",
      "Try using .loc[row_indexer,col_indexer] = value instead\n",
      "\n",
      "See the caveats in the documentation: https://pandas.pydata.org/pandas-docs/stable/user_guide/indexing.html#returning-a-view-versus-a-copy\n",
      "  scores_norm[\"harmless_model1_score_mean\"] = (scores_norm[\"harmless_model1_score_mean\"] - mean_scores_harmless) / std_scores_harmless\n",
      "/tmp/ipykernel_1723963/3541199501.py:9: SettingWithCopyWarning: \n",
      "A value is trying to be set on a copy of a slice from a DataFrame.\n",
      "Try using .loc[row_indexer,col_indexer] = value instead\n",
      "\n",
      "See the caveats in the documentation: https://pandas.pydata.org/pandas-docs/stable/user_guide/indexing.html#returning-a-view-versus-a-copy\n",
      "  scores_norm[\"harmless_model2_score_mean\"] = (scores_norm[\"harmless_model2_score_mean\"] - mean_scores_harmless) / std_scores_harmless\n",
      "/tmp/ipykernel_1723963/3541199501.py:10: SettingWithCopyWarning: \n",
      "A value is trying to be set on a copy of a slice from a DataFrame.\n",
      "Try using .loc[row_indexer,col_indexer] = value instead\n",
      "\n",
      "See the caveats in the documentation: https://pandas.pydata.org/pandas-docs/stable/user_guide/indexing.html#returning-a-view-versus-a-copy\n",
      "  scores_norm[\"helpful_model1_score_mean\"] = (scores_norm[\"helpful_model1_score_mean\"] - mean_scores_helpful) / std_scores_helpful\n",
      "/tmp/ipykernel_1723963/3541199501.py:11: SettingWithCopyWarning: \n",
      "A value is trying to be set on a copy of a slice from a DataFrame.\n",
      "Try using .loc[row_indexer,col_indexer] = value instead\n",
      "\n",
      "See the caveats in the documentation: https://pandas.pydata.org/pandas-docs/stable/user_guide/indexing.html#returning-a-view-versus-a-copy\n",
      "  scores_norm[\"helpful_model2_score_mean\"] = (scores_norm[\"helpful_model2_score_mean\"] - mean_scores_helpful) / std_scores_helpful\n",
      "/tmp/ipykernel_1723963/3541199501.py:8: SettingWithCopyWarning: \n",
      "A value is trying to be set on a copy of a slice from a DataFrame.\n",
      "Try using .loc[row_indexer,col_indexer] = value instead\n",
      "\n",
      "See the caveats in the documentation: https://pandas.pydata.org/pandas-docs/stable/user_guide/indexing.html#returning-a-view-versus-a-copy\n",
      "  scores_norm[\"harmless_model1_score_mean\"] = (scores_norm[\"harmless_model1_score_mean\"] - mean_scores_harmless) / std_scores_harmless\n",
      "/tmp/ipykernel_1723963/3541199501.py:9: SettingWithCopyWarning: \n",
      "A value is trying to be set on a copy of a slice from a DataFrame.\n",
      "Try using .loc[row_indexer,col_indexer] = value instead\n",
      "\n",
      "See the caveats in the documentation: https://pandas.pydata.org/pandas-docs/stable/user_guide/indexing.html#returning-a-view-versus-a-copy\n",
      "  scores_norm[\"harmless_model2_score_mean\"] = (scores_norm[\"harmless_model2_score_mean\"] - mean_scores_harmless) / std_scores_harmless\n",
      "/tmp/ipykernel_1723963/3541199501.py:10: SettingWithCopyWarning: \n",
      "A value is trying to be set on a copy of a slice from a DataFrame.\n",
      "Try using .loc[row_indexer,col_indexer] = value instead\n",
      "\n",
      "See the caveats in the documentation: https://pandas.pydata.org/pandas-docs/stable/user_guide/indexing.html#returning-a-view-versus-a-copy\n",
      "  scores_norm[\"helpful_model1_score_mean\"] = (scores_norm[\"helpful_model1_score_mean\"] - mean_scores_helpful) / std_scores_helpful\n",
      "/tmp/ipykernel_1723963/3541199501.py:11: SettingWithCopyWarning: \n",
      "A value is trying to be set on a copy of a slice from a DataFrame.\n",
      "Try using .loc[row_indexer,col_indexer] = value instead\n",
      "\n",
      "See the caveats in the documentation: https://pandas.pydata.org/pandas-docs/stable/user_guide/indexing.html#returning-a-view-versus-a-copy\n",
      "  scores_norm[\"helpful_model2_score_mean\"] = (scores_norm[\"helpful_model2_score_mean\"] - mean_scores_helpful) / std_scores_helpful\n"
     ]
    }
   ],
   "source": [
    "print(norm_win_rate(df_blockwise))\n",
    "print(norm_win_rate(df_uniform))\n",
    "print(norm_win_rate(df_distill))"
   ]
  },
  {
   "cell_type": "code",
   "execution_count": null,
   "metadata": {},
   "outputs": [],
   "source": []
  }
 ],
 "metadata": {
  "kernelspec": {
   "display_name": "Python 3",
   "language": "python",
   "name": "python3"
  },
  "language_info": {
   "codemirror_mode": {
    "name": "ipython",
    "version": 3
   },
   "file_extension": ".py",
   "mimetype": "text/x-python",
   "name": "python",
   "nbconvert_exporter": "python",
   "pygments_lexer": "ipython3",
   "version": "3.11.5"
  }
 },
 "nbformat": 4,
 "nbformat_minor": 2
}
